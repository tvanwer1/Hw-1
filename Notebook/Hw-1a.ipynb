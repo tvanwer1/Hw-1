{
 "cells": [
  {
   "cell_type": "code",
   "execution_count": 99,
   "metadata": {},
   "outputs": [],
   "source": [
    "#Call libraries\n",
    "import pandas as pd\n",
    "import numpy as np\n",
    "import datetime as dt\n",
    "import matplotlib.pyplot as plt\n",
    "%matplotlib inline\n",
    "import seaborn as sns\n",
    "pd.set_option('float_format','{:f}'.format)"
   ]
  },
  {
   "cell_type": "code",
   "execution_count": 105,
   "metadata": {},
   "outputs": [],
   "source": [
    "#Define my dataframe by using the .read_csv function in pandas. Followed by a check to see the data\n",
    "df = pd.read_csv('avocado-updated.csv')"
   ]
  },
  {
   "cell_type": "code",
   "execution_count": 106,
   "metadata": {},
   "outputs": [
    {
     "data": {
      "text/plain": [
       "['date',\n",
       " 'average_price',\n",
       " 'total_volume',\n",
       " '4046',\n",
       " '4225',\n",
       " '4770',\n",
       " 'total_bags',\n",
       " 'small_bags',\n",
       " 'large_bags',\n",
       " 'xlarge_bags',\n",
       " 'type',\n",
       " 'year',\n",
       " 'geography',\n",
       " 'season']"
      ]
     },
     "execution_count": 106,
     "metadata": {},
     "output_type": "execute_result"
    }
   ],
   "source": [
    "#Preview column headers\n",
    "df.columns.to_list()"
   ]
  },
  {
   "cell_type": "code",
   "execution_count": 107,
   "metadata": {},
   "outputs": [
    {
     "name": "stdout",
     "output_type": "stream",
     "text": [
      "<class 'pandas.core.frame.DataFrame'>\n",
      "RangeIndex: 30885 entries, 0 to 30884\n",
      "Data columns (total 14 columns):\n",
      " #   Column         Non-Null Count  Dtype  \n",
      "---  ------         --------------  -----  \n",
      " 0   date           30885 non-null  object \n",
      " 1   average_price  30885 non-null  float64\n",
      " 2   total_volume   30885 non-null  float64\n",
      " 3   4046           30885 non-null  float64\n",
      " 4   4225           30885 non-null  float64\n",
      " 5   4770           30885 non-null  float64\n",
      " 6   total_bags     30885 non-null  float64\n",
      " 7   small_bags     30885 non-null  float64\n",
      " 8   large_bags     30885 non-null  float64\n",
      " 9   xlarge_bags    30885 non-null  float64\n",
      " 10  type           30885 non-null  object \n",
      " 11  year           30885 non-null  int64  \n",
      " 12  geography      30885 non-null  object \n",
      " 13  season         30455 non-null  object \n",
      "dtypes: float64(9), int64(1), object(4)\n",
      "memory usage: 3.3+ MB\n"
     ]
    }
   ],
   "source": [
    "df.info()"
   ]
  },
  {
   "cell_type": "code",
   "execution_count": 110,
   "metadata": {},
   "outputs": [],
   "source": [
    "# Isolate \"Total U.S.\" data\n",
    "df = df.loc[df['geography']== \"Total U.S.\"]"
   ]
  },
  {
   "cell_type": "code",
   "execution_count": 109,
   "metadata": {},
   "outputs": [
    {
     "name": "stdout",
     "output_type": "stream",
     "text": [
      "            date  average_price    total_volume            4046  \\\n",
      "51      1/4/2015       0.950000 31324277.730000 12357161.340000   \n",
      "105    1/11/2015       1.010000 29063542.750000 11544810.530000   \n",
      "159    1/18/2015       1.030000 29043458.850000 11858139.340000   \n",
      "213    1/25/2015       1.040000 28470310.840000 12167445.030000   \n",
      "267     2/1/2015       0.890000 44655461.510000 18933038.040000   \n",
      "...          ...            ...             ...             ...   \n",
      "30666  6/14/2020       1.590000  2192761.000000   108037.000000   \n",
      "30720  6/21/2020       1.590000  2240038.170000   123964.220000   \n",
      "30774  6/28/2020       1.590000  2083765.750000   143548.500000   \n",
      "30828   7/5/2020       1.630000  2239483.590000   147332.860000   \n",
      "30882  7/12/2020       1.640000  2071489.810000   137270.510000   \n",
      "\n",
      "                 4225           4770     total_bags     small_bags  \\\n",
      "51    13624083.050000  844093.320000 4498940.020000 3585321.580000   \n",
      "105   12134773.380000  866574.660000 4517384.180000 3783261.160000   \n",
      "159   11701947.800000  831301.900000 4652069.810000 3873041.260000   \n",
      "213   10734652.820000  768020.050000 4800192.940000 3978636.900000   \n",
      "267   18956479.740000 1381516.110000 5384427.620000 4216452.030000   \n",
      "...               ...            ...            ...            ...   \n",
      "30666   184227.000000    7759.000000 1892718.000000 1099094.000000   \n",
      "30720   173127.600000    6587.390000 1936332.220000 1122846.750000   \n",
      "30774   154745.670000    7785.770000 1777681.880000 1069612.680000   \n",
      "30828   159243.480000    7125.740000 1925781.510000 1122656.110000   \n",
      "30882   160186.450000    6506.730000 1767512.030000 1032775.830000   \n",
      "\n",
      "          large_bags  xlarge_bags          type  year   geography  season  \n",
      "51     894945.630000 18672.810000  conventional  2015  Total U.S.  winter  \n",
      "105    718333.870000 15789.150000  conventional  2015  Total U.S.  winter  \n",
      "159    771093.200000  7935.350000  conventional  2015  Total U.S.  winter  \n",
      "213    812924.730000  8631.310000  conventional  2015  Total U.S.  winter  \n",
      "267   1121076.470000 46899.120000  conventional  2015  Total U.S.  winter  \n",
      "...              ...          ...           ...   ...         ...     ...  \n",
      "30666  793622.000000     2.000000       organic  2020  Total U.S.  spring  \n",
      "30720  813482.540000     2.930000       organic  2020  Total U.S.     NaN  \n",
      "30774  708061.870000     7.330000       organic  2020  Total U.S.     NaN  \n",
      "30828  800243.480000  2881.920000       organic  2020  Total U.S.     NaN  \n",
      "30882  733650.890000  1085.310000       organic  2020  Total U.S.     NaN  \n",
      "\n",
      "[572 rows x 14 columns]\n"
     ]
    }
   ],
   "source": []
  },
  {
   "cell_type": "code",
   "execution_count": 111,
   "metadata": {},
   "outputs": [
    {
     "data": {
      "text/plain": [
       "count   572.000000\n",
       "mean      1.330070\n",
       "std       0.288188\n",
       "min       0.760000\n",
       "25%       1.050000\n",
       "50%       1.350000\n",
       "75%       1.560000\n",
       "max       2.090000\n",
       "Name: average_price, dtype: float64"
      ]
     },
     "execution_count": 111,
     "metadata": {},
     "output_type": "execute_result"
    }
   ],
   "source": [
    "# wanted to know the shape of the \"average_price\" column\n",
    "df.average_price.describe()"
   ]
  },
  {
   "cell_type": "code",
   "execution_count": 112,
   "metadata": {},
   "outputs": [
    {
     "data": {
      "text/html": [
       "<div>\n",
       "<style scoped>\n",
       "    .dataframe tbody tr th:only-of-type {\n",
       "        vertical-align: middle;\n",
       "    }\n",
       "\n",
       "    .dataframe tbody tr th {\n",
       "        vertical-align: top;\n",
       "    }\n",
       "\n",
       "    .dataframe thead th {\n",
       "        text-align: right;\n",
       "    }\n",
       "</style>\n",
       "<table border=\"1\" class=\"dataframe\">\n",
       "  <thead>\n",
       "    <tr style=\"text-align: right;\">\n",
       "      <th></th>\n",
       "      <th>average_price</th>\n",
       "      <th>total_volume</th>\n",
       "      <th>4046</th>\n",
       "      <th>4225</th>\n",
       "      <th>4770</th>\n",
       "      <th>total_bags</th>\n",
       "      <th>small_bags</th>\n",
       "      <th>large_bags</th>\n",
       "      <th>xlarge_bags</th>\n",
       "      <th>year</th>\n",
       "    </tr>\n",
       "    <tr>\n",
       "      <th>season</th>\n",
       "      <th></th>\n",
       "      <th></th>\n",
       "      <th></th>\n",
       "      <th></th>\n",
       "      <th></th>\n",
       "      <th></th>\n",
       "      <th></th>\n",
       "      <th></th>\n",
       "      <th></th>\n",
       "      <th></th>\n",
       "    </tr>\n",
       "  </thead>\n",
       "  <tbody>\n",
       "    <tr>\n",
       "      <th>fall</th>\n",
       "      <td>1.381190</td>\n",
       "      <td>16006826.123810</td>\n",
       "      <td>4970192.440635</td>\n",
       "      <td>4892649.337857</td>\n",
       "      <td>321700.486032</td>\n",
       "      <td>5822215.523889</td>\n",
       "      <td>3992270.719048</td>\n",
       "      <td>1741427.753571</td>\n",
       "      <td>88517.059206</td>\n",
       "      <td>2016.968254</td>\n",
       "    </tr>\n",
       "    <tr>\n",
       "      <th>spring</th>\n",
       "      <td>1.307013</td>\n",
       "      <td>21715928.801753</td>\n",
       "      <td>7150432.355130</td>\n",
       "      <td>6080824.554870</td>\n",
       "      <td>493034.295130</td>\n",
       "      <td>7986282.405584</td>\n",
       "      <td>5525977.642597</td>\n",
       "      <td>2289393.661883</td>\n",
       "      <td>170911.088117</td>\n",
       "      <td>2017.506494</td>\n",
       "    </tr>\n",
       "    <tr>\n",
       "      <th>summer</th>\n",
       "      <td>1.429254</td>\n",
       "      <td>18287889.941716</td>\n",
       "      <td>5933376.947164</td>\n",
       "      <td>5706019.040224</td>\n",
       "      <td>439895.452239</td>\n",
       "      <td>6207696.487761</td>\n",
       "      <td>4463959.902761</td>\n",
       "      <td>1593107.229776</td>\n",
       "      <td>150629.332836</td>\n",
       "      <td>2016.985075</td>\n",
       "    </tr>\n",
       "    <tr>\n",
       "      <th>winter</th>\n",
       "      <td>1.222000</td>\n",
       "      <td>20522048.973733</td>\n",
       "      <td>6691788.507200</td>\n",
       "      <td>6095405.564467</td>\n",
       "      <td>477391.838533</td>\n",
       "      <td>7257357.787000</td>\n",
       "      <td>4956171.751533</td>\n",
       "      <td>2181123.721600</td>\n",
       "      <td>120062.313867</td>\n",
       "      <td>2017.440000</td>\n",
       "    </tr>\n",
       "  </tbody>\n",
       "</table>\n",
       "</div>"
      ],
      "text/plain": [
       "        average_price    total_volume           4046           4225  \\\n",
       "season                                                                \n",
       "fall         1.381190 16006826.123810 4970192.440635 4892649.337857   \n",
       "spring       1.307013 21715928.801753 7150432.355130 6080824.554870   \n",
       "summer       1.429254 18287889.941716 5933376.947164 5706019.040224   \n",
       "winter       1.222000 20522048.973733 6691788.507200 6095405.564467   \n",
       "\n",
       "                4770     total_bags     small_bags     large_bags  \\\n",
       "season                                                              \n",
       "fall   321700.486032 5822215.523889 3992270.719048 1741427.753571   \n",
       "spring 493034.295130 7986282.405584 5525977.642597 2289393.661883   \n",
       "summer 439895.452239 6207696.487761 4463959.902761 1593107.229776   \n",
       "winter 477391.838533 7257357.787000 4956171.751533 2181123.721600   \n",
       "\n",
       "         xlarge_bags        year  \n",
       "season                            \n",
       "fall    88517.059206 2016.968254  \n",
       "spring 170911.088117 2017.506494  \n",
       "summer 150629.332836 2016.985075  \n",
       "winter 120062.313867 2017.440000  "
      ]
     },
     "execution_count": 112,
     "metadata": {},
     "output_type": "execute_result"
    }
   ],
   "source": [
    "#Interested in seeing \"average_price\" and \"total_volume\" grouped by season\n",
    "df.groupby(['season']).mean()"
   ]
  },
  {
   "cell_type": "code",
   "execution_count": 113,
   "metadata": {},
   "outputs": [
    {
     "data": {
      "text/html": [
       "<div>\n",
       "<style scoped>\n",
       "    .dataframe tbody tr th:only-of-type {\n",
       "        vertical-align: middle;\n",
       "    }\n",
       "\n",
       "    .dataframe tbody tr th {\n",
       "        vertical-align: top;\n",
       "    }\n",
       "\n",
       "    .dataframe thead th {\n",
       "        text-align: right;\n",
       "    }\n",
       "</style>\n",
       "<table border=\"1\" class=\"dataframe\">\n",
       "  <thead>\n",
       "    <tr style=\"text-align: right;\">\n",
       "      <th></th>\n",
       "      <th>average_price</th>\n",
       "      <th>total_volume</th>\n",
       "      <th>4046</th>\n",
       "      <th>4225</th>\n",
       "      <th>4770</th>\n",
       "      <th>total_bags</th>\n",
       "      <th>small_bags</th>\n",
       "      <th>large_bags</th>\n",
       "      <th>xlarge_bags</th>\n",
       "      <th>year</th>\n",
       "    </tr>\n",
       "    <tr>\n",
       "      <th>type</th>\n",
       "      <th></th>\n",
       "      <th></th>\n",
       "      <th></th>\n",
       "      <th></th>\n",
       "      <th></th>\n",
       "      <th></th>\n",
       "      <th></th>\n",
       "      <th></th>\n",
       "      <th></th>\n",
       "      <th></th>\n",
       "    </tr>\n",
       "  </thead>\n",
       "  <tbody>\n",
       "    <tr>\n",
       "      <th>conventional</th>\n",
       "      <td>1.098986</td>\n",
       "      <td>37600701.989476</td>\n",
       "      <td>12402948.192972</td>\n",
       "      <td>11156982.257972</td>\n",
       "      <td>872470.376084</td>\n",
       "      <td>13168248.279161</td>\n",
       "      <td>9083249.598007</td>\n",
       "      <td>3803188.964545</td>\n",
       "      <td>281809.709615</td>\n",
       "      <td>2017.283217</td>\n",
       "    </tr>\n",
       "    <tr>\n",
       "      <th>organic</th>\n",
       "      <td>1.561154</td>\n",
       "      <td>1242645.022063</td>\n",
       "      <td>143567.056573</td>\n",
       "      <td>277955.608007</td>\n",
       "      <td>4817.796748</td>\n",
       "      <td>812963.988217</td>\n",
       "      <td>605437.637587</td>\n",
       "      <td>207463.965804</td>\n",
       "      <td>62.377832</td>\n",
       "      <td>2017.283217</td>\n",
       "    </tr>\n",
       "  </tbody>\n",
       "</table>\n",
       "</div>"
      ],
      "text/plain": [
       "              average_price    total_volume            4046            4225  \\\n",
       "type                                                                          \n",
       "conventional       1.098986 37600701.989476 12402948.192972 11156982.257972   \n",
       "organic            1.561154  1242645.022063   143567.056573   277955.608007   \n",
       "\n",
       "                      4770      total_bags     small_bags     large_bags  \\\n",
       "type                                                                       \n",
       "conventional 872470.376084 13168248.279161 9083249.598007 3803188.964545   \n",
       "organic        4817.796748   812963.988217  605437.637587  207463.965804   \n",
       "\n",
       "               xlarge_bags        year  \n",
       "type                                    \n",
       "conventional 281809.709615 2017.283217  \n",
       "organic          62.377832 2017.283217  "
      ]
     },
     "execution_count": 113,
     "metadata": {},
     "output_type": "execute_result"
    }
   ],
   "source": [
    "#Interested in seeing \"average_price\" and \"total_volume\" grouped by type\n",
    "df.groupby(['type']).mean()"
   ]
  },
  {
   "cell_type": "code",
   "execution_count": 114,
   "metadata": {},
   "outputs": [],
   "source": [
    "#Box Plot Comparison of Average Price by Type\n",
    "Organic = df.loc[df.type == 'organic']['average_price']\n",
    "Conventional = df.loc[df.type ==  'conventional']['average_price']"
   ]
  },
  {
   "cell_type": "code",
   "execution_count": 115,
   "metadata": {},
   "outputs": [
    {
     "data": {
      "image/png": "[encoded data removed]",
      "text/plain": [
       "<Figure size 360x576 with 1 Axes>"
      ]
     },
     "metadata": {
      "needs_background": "light"
     },
     "output_type": "display_data"
    }
   ],
   "source": [
    "plt.figure(figsize=(5,8))\n",
    "labels = ['Organic', 'Conventional']\n",
    "plt.boxplot([Organic, Conventional], labels=labels)\n",
    "\n",
    "plt.title('Organic vs Conventional Haas Avocado Average Price')\n",
    "plt.ylabel('Average Price')\n",
    "plt.show()"
   ]
  },
  {
   "cell_type": "code",
   "execution_count": 101,
   "metadata": {},
   "outputs": [
    {
     "data": {
      "image/png": "[encoded data removed]",
      "text/plain": [
       "<Figure size 720x1080 with 1 Axes>"
      ]
     },
     "metadata": {
      "needs_background": "light"
     },
     "output_type": "display_data"
    }
   ],
   "source": [
    "plt.figure(figsize=(10,15))\n",
    "Fall = df.loc[df.season=='fall']['total_volume']\n",
    "Winter = df.loc[df.season=='winter']['total_volume']\n",
    "Spring = df.loc[df.season=='spring']['total_volume']\n",
    "Summer = df.loc[df.season=='summer']['total_volume']\n",
    "\n",
    "labels = ['Fall','Winter','Spring','Summer']\n",
    "plt.boxplot([Fall,Winter,Spring,Summer], labels=labels)\n",
    "plt.title('Total Volumne of Haas Avocados by Season Comparison')\n",
    "plt.ylabel('Total Volume')\n",
    "plt.show()"
   ]
  },
  {
   "cell_type": "code",
   "execution_count": null,
   "metadata": {},
   "outputs": [],
   "source": []
  }
 ],
 "metadata": {
  "kernelspec": {
   "display_name": "Python 3",
   "language": "python",
   "name": "python3"
  },
  "language_info": {
   "codemirror_mode": {
    "name": "ipython",
    "version": 3
   },
   "file_extension": ".py",
   "mimetype": "text/x-python",
   "name": "python",
   "nbconvert_exporter": "python",
   "pygments_lexer": "ipython3",
   "version": "3.8.3"
  }
 },
 "nbformat": 4,
 "nbformat_minor": 4
}
